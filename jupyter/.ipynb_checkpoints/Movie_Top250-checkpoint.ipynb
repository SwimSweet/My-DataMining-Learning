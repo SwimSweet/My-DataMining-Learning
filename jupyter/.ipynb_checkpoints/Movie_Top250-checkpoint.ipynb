{
 "cells": [
  {
   "cell_type": "code",
   "execution_count": 1,
   "metadata": {
    "collapsed": true
   },
   "outputs": [],
   "source": [
    "%matplotlib inline\n",
    "import pandas as pd \n",
    "import numpy as np\n",
    "import matplotlib.pyplot as plt \n",
    "import seaborn as sea\n",
    "import matplotlib as mpl\n",
    "mpl.rcParams['font.sans-serif'] = ['KaiTi']\n",
    "mpl.rcParams['font.serif'] = ['KaiTi']"
   ]
  },
  {
   "cell_type": "code",
   "execution_count": 3,
   "metadata": {},
   "outputs": [],
   "source": [
    "movie_data=pd.read_excel(r'F:\\数据挖掘学习\\dataSet\\data.xlsx',header=1,index_col=0)"
   ]
  },
  {
   "cell_type": "code",
   "execution_count": 4,
   "metadata": {},
   "outputs": [
    {
     "data": {
      "text/html": [
       "<div>\n",
       "<style>\n",
       "    .dataframe thead tr:only-child th {\n",
       "        text-align: right;\n",
       "    }\n",
       "\n",
       "    .dataframe thead th {\n",
       "        text-align: left;\n",
       "    }\n",
       "\n",
       "    .dataframe tbody tr th {\n",
       "        vertical-align: top;\n",
       "    }\n",
       "</style>\n",
       "<table border=\"1\" class=\"dataframe\">\n",
       "  <thead>\n",
       "    <tr style=\"text-align: right;\">\n",
       "      <th></th>\n",
       "      <th>rank</th>\n",
       "      <th>movie_name</th>\n",
       "      <th>director</th>\n",
       "      <th>main_actor</th>\n",
       "      <th>score</th>\n",
       "      <th>year</th>\n",
       "      <th>type</th>\n",
       "      <th>country</th>\n",
       "      <th>language</th>\n",
       "      <th>Introduction</th>\n",
       "      <th>review</th>\n",
       "      <th>star_five</th>\n",
       "      <th>star_four</th>\n",
       "      <th>star_three</th>\n",
       "      <th>star_two</th>\n",
       "      <th>star_one</th>\n",
       "    </tr>\n",
       "    <tr>\n",
       "      <th>0</th>\n",
       "      <th></th>\n",
       "      <th></th>\n",
       "      <th></th>\n",
       "      <th></th>\n",
       "      <th></th>\n",
       "      <th></th>\n",
       "      <th></th>\n",
       "      <th></th>\n",
       "      <th></th>\n",
       "      <th></th>\n",
       "      <th></th>\n",
       "      <th></th>\n",
       "      <th></th>\n",
       "      <th></th>\n",
       "      <th></th>\n",
       "      <th></th>\n",
       "    </tr>\n",
       "  </thead>\n",
       "  <tbody>\n",
       "    <tr>\n",
       "      <th>1</th>\n",
       "      <td>1</td>\n",
       "      <td>肖申克的救赎</td>\n",
       "      <td>弗兰克·德拉邦特</td>\n",
       "      <td>蒂姆·罗宾斯 / 摩根·弗里曼 / 鲍勃·冈顿 / 威廉姆·赛德勒 / 克兰西·布朗 / ...</td>\n",
       "      <td>9.6</td>\n",
       "      <td>1994</td>\n",
       "      <td>剧情 / 犯罪</td>\n",
       "      <td>美国</td>\n",
       "      <td>英语</td>\n",
       "      <td>20世纪40年代末，小有成就的青年银行家安迪（蒂姆·罗宾斯TimRobbins饰）因涉嫌杀害...</td>\n",
       "      <td>918864</td>\n",
       "      <td>82.2%</td>\n",
       "      <td>15.6%</td>\n",
       "      <td>2.0%</td>\n",
       "      <td>0.1%</td>\n",
       "      <td>0.1%</td>\n",
       "    </tr>\n",
       "    <tr>\n",
       "      <th>2</th>\n",
       "      <td>2</td>\n",
       "      <td>霸王别姬</td>\n",
       "      <td>陈凯歌</td>\n",
       "      <td>张国荣 / 张丰毅 / 巩俐 / 葛优 / 英达 / 蒋雯丽 / 吴大维 / 吕齐 / 雷...</td>\n",
       "      <td>9.5</td>\n",
       "      <td>1993</td>\n",
       "      <td>剧情 / 爱情 / 同性</td>\n",
       "      <td>中国大陆 / 香港</td>\n",
       "      <td>汉语普通话</td>\n",
       "      <td>段小楼（张丰毅）与程蝶衣（张国荣）是一对打小一起长大的师兄弟，两人一个演生，一个饰旦，一向配...</td>\n",
       "      <td>663075</td>\n",
       "      <td>79.4%</td>\n",
       "      <td>17.7%</td>\n",
       "      <td>2.7%</td>\n",
       "      <td>0.2%</td>\n",
       "      <td>0.1%</td>\n",
       "    </tr>\n",
       "    <tr>\n",
       "      <th>3</th>\n",
       "      <td>3</td>\n",
       "      <td>这个杀手不太冷</td>\n",
       "      <td>吕克·贝松</td>\n",
       "      <td>让·雷诺 / 娜塔莉·波特曼 / 加里·奥德曼 / 丹尼·爱罗 / 彼得·阿佩尔 / 迈克...</td>\n",
       "      <td>9.4</td>\n",
       "      <td>1994</td>\n",
       "      <td>剧情 / 动作 / 犯罪</td>\n",
       "      <td>法国</td>\n",
       "      <td>英语 / 意大利语 / 法语</td>\n",
       "      <td>里昂（让·雷诺饰）是名孤独的职业杀手，受人雇佣。一天，邻居家小姑娘马蒂尔达（纳塔丽·波特曼饰...</td>\n",
       "      <td>872569</td>\n",
       "      <td>73.8%</td>\n",
       "      <td>22.5%</td>\n",
       "      <td>3.4%</td>\n",
       "      <td>0.2%</td>\n",
       "      <td>0.1%</td>\n",
       "    </tr>\n",
       "    <tr>\n",
       "      <th>4</th>\n",
       "      <td>4</td>\n",
       "      <td>阿甘正传</td>\n",
       "      <td>罗伯特·泽米吉斯</td>\n",
       "      <td>汤姆·汉克斯 / 罗宾·怀特 / 加里·西尼斯 / 麦凯尔泰·威廉逊 / 莎莉·菲尔德 /...</td>\n",
       "      <td>9.4</td>\n",
       "      <td>1994</td>\n",
       "      <td>剧情 / 爱情</td>\n",
       "      <td>美国</td>\n",
       "      <td>英语</td>\n",
       "      <td>阿甘（汤姆·汉克斯饰）于二战结束后不久出生在美国南方阿拉巴马州一个闭塞的小镇，他先天弱智，智...</td>\n",
       "      <td>742289</td>\n",
       "      <td>73.9%</td>\n",
       "      <td>22.2%</td>\n",
       "      <td>3.5%</td>\n",
       "      <td>0.2%</td>\n",
       "      <td>0.1%</td>\n",
       "    </tr>\n",
       "    <tr>\n",
       "      <th>5</th>\n",
       "      <td>5</td>\n",
       "      <td>美丽人生</td>\n",
       "      <td>罗伯托·贝尼尼</td>\n",
       "      <td>罗伯托·贝尼尼 / 尼可莱塔·布拉斯基 / 乔治·坎塔里尼 / 朱斯蒂诺·杜拉诺 / 赛尔...</td>\n",
       "      <td>9.5</td>\n",
       "      <td>1997</td>\n",
       "      <td>剧情 / 喜剧 / 爱情 / 战争</td>\n",
       "      <td>意大利</td>\n",
       "      <td>意大利语 / 德语 / 英语</td>\n",
       "      <td>犹太青年圭多（罗伯托·贝尼尼）邂逅美丽的女教师多拉（尼可莱塔·布拉斯基），他彬彬有礼的向多拉...</td>\n",
       "      <td>433458</td>\n",
       "      <td>77.5%</td>\n",
       "      <td>19.3%</td>\n",
       "      <td>2.9%</td>\n",
       "      <td>0.2%</td>\n",
       "      <td>0.1%</td>\n",
       "    </tr>\n",
       "  </tbody>\n",
       "</table>\n",
       "</div>"
      ],
      "text/plain": [
       "   rank movie_name   director  \\\n",
       "0                               \n",
       "1     1     肖申克的救赎   弗兰克·德拉邦特   \n",
       "2     2       霸王别姬        陈凯歌   \n",
       "3     3    这个杀手不太冷      吕克·贝松   \n",
       "4     4       阿甘正传   罗伯特·泽米吉斯   \n",
       "5     5       美丽人生    罗伯托·贝尼尼   \n",
       "\n",
       "                                          main_actor  score  year  \\\n",
       "0                                                                   \n",
       "1   蒂姆·罗宾斯 / 摩根·弗里曼 / 鲍勃·冈顿 / 威廉姆·赛德勒 / 克兰西·布朗 / ...    9.6  1994   \n",
       "2   张国荣 / 张丰毅 / 巩俐 / 葛优 / 英达 / 蒋雯丽 / 吴大维 / 吕齐 / 雷...    9.5  1993   \n",
       "3   让·雷诺 / 娜塔莉·波特曼 / 加里·奥德曼 / 丹尼·爱罗 / 彼得·阿佩尔 / 迈克...    9.4  1994   \n",
       "4   汤姆·汉克斯 / 罗宾·怀特 / 加里·西尼斯 / 麦凯尔泰·威廉逊 / 莎莉·菲尔德 /...    9.4  1994   \n",
       "5   罗伯托·贝尼尼 / 尼可莱塔·布拉斯基 / 乔治·坎塔里尼 / 朱斯蒂诺·杜拉诺 / 赛尔...    9.5  1997   \n",
       "\n",
       "                 type     country         language  \\\n",
       "0                                                    \n",
       "1             剧情 / 犯罪          美国               英语   \n",
       "2        剧情 / 爱情 / 同性   中国大陆 / 香港            汉语普通话   \n",
       "3        剧情 / 动作 / 犯罪          法国   英语 / 意大利语 / 法语   \n",
       "4             剧情 / 爱情          美国               英语   \n",
       "5   剧情 / 喜剧 / 爱情 / 战争         意大利   意大利语 / 德语 / 英语   \n",
       "\n",
       "                                        Introduction  review  star_five  \\\n",
       "0                                                                         \n",
       "1  20世纪40年代末，小有成就的青年银行家安迪（蒂姆·罗宾斯TimRobbins饰）因涉嫌杀害...   918864     82.2%   \n",
       "2  段小楼（张丰毅）与程蝶衣（张国荣）是一对打小一起长大的师兄弟，两人一个演生，一个饰旦，一向配...   663075     79.4%   \n",
       "3  里昂（让·雷诺饰）是名孤独的职业杀手，受人雇佣。一天，邻居家小姑娘马蒂尔达（纳塔丽·波特曼饰...   872569     73.8%   \n",
       "4  阿甘（汤姆·汉克斯饰）于二战结束后不久出生在美国南方阿拉巴马州一个闭塞的小镇，他先天弱智，智...   742289     73.9%   \n",
       "5  犹太青年圭多（罗伯托·贝尼尼）邂逅美丽的女教师多拉（尼可莱塔·布拉斯基），他彬彬有礼的向多拉...   433458     77.5%   \n",
       "\n",
       "  star_four star_three star_two star_one  \n",
       "0                                         \n",
       "1     15.6%       2.0%     0.1%     0.1%  \n",
       "2     17.7%       2.7%     0.2%     0.1%  \n",
       "3     22.5%       3.4%     0.2%     0.1%  \n",
       "4     22.2%       3.5%     0.2%     0.1%  \n",
       "5     19.3%       2.9%     0.2%     0.1%  "
      ]
     },
     "execution_count": 4,
     "metadata": {},
     "output_type": "execute_result"
    }
   ],
   "source": [
    "movie_data.head()"
   ]
  },
  {
   "cell_type": "code",
   "execution_count": 5,
   "metadata": {},
   "outputs": [
    {
     "data": {
      "text/plain": [
       "Text(0,0.5,'Topmovie_num')"
      ]
     },
     "execution_count": 5,
     "metadata": {},
     "output_type": "execute_result"
    },
    {
     "data": {
      "image/png": "[encoded data removed]",
      "text/plain": [
       "<matplotlib.figure.Figure at 0x1c96e949240>"
      ]
     },
     "metadata": {},
     "output_type": "display_data"
    }
   ],
   "source": [
    "directors=list(movie_data['director'])\n",
    "dir_dict = {}\n",
    "for director in directors:\n",
    "    director_array=director.split('/')\n",
    "    for item in director_array:\n",
    "        dir_dict[item]=dir_dict.get(item,0)+1\n",
    "dir_pd=pd.DataFrame.from_dict(dir_dict,orient='index')\n",
    "dir_pd.columns=['count']\n",
    "dir_pd['per']=dir_pd['count']/sum(dir_pd['count'])\n",
    "dir_pd.sort_values(['count'],axis=0,inplace=True,ascending=False)\n",
    "fig,ax=plt.subplots(1,1,figsize=(20,10))\n",
    "ax.bar(np.arange(1,21),dir_pd['count'][:20])\n",
    "ax.set_xticks(np.arange(1,21))\n",
    "ax.set_xticklabels(dir_pd.index[:20])\n",
    "ax.set_xlabel('director')\n",
    "ax.set_ylabel('Topmovie_num')"
   ]
  },
  {
   "cell_type": "code",
   "execution_count": 86,
   "metadata": {},
   "outputs": [
    {
     "data": {
      "text/plain": [
       "array([ 1,  2,  3,  4,  5,  6,  7,  8,  9, 10, 11, 12, 13, 14, 15, 16, 17,\n",
       "       18, 19, 20])"
      ]
     },
     "execution_count": 86,
     "metadata": {},
     "output_type": "execute_result"
    }
   ],
   "source": []
  },
  {
   "cell_type": "code",
   "execution_count": null,
   "metadata": {
    "collapsed": true
   },
   "outputs": [],
   "source": []
  }
 ],
 "metadata": {
  "kernelspec": {
   "display_name": "Python 3",
   "language": "python",
   "name": "python3"
  },
  "language_info": {
   "codemirror_mode": {
    "name": "ipython",
    "version": 3
   },
   "file_extension": ".py",
   "mimetype": "text/x-python",
   "name": "python",
   "nbconvert_exporter": "python",
   "pygments_lexer": "ipython3",
   "version": "3.6.3"
  }
 },
 "nbformat": 4,
 "nbformat_minor": 2
}
